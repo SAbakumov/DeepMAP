{
 "cells": [
  {
   "cell_type": "markdown",
   "metadata": {},
   "source": [
    "# Let's get to training!\r\n",
    "\r\n",
    "## If you have not generated the training data, either run the code from the command line, or go to simulate_interactive.ipynb for  interactive data generation. This notebook details the training of the CNN. Let us start with the imports\r\n"
   ]
  },
  {
   "cell_type": "code",
   "execution_count": 1,
   "metadata": {},
   "outputs": [],
   "source": [
    "import tensorflow as tf\r\n",
    "from Nets.Training import *\r\n",
    "from Core.LoadTrainingData import DataLoader\r\n",
    "from Nets.CNN1D import *"
   ]
  },
  {
   "cell_type": "markdown",
   "metadata": {},
   "source": [
    "## First, we need to load our training and validation dataset, which we simulated in simulate_interactive.ipynb. Provide the path to both:\r\n"
   ]
  },
  {
   "cell_type": "code",
   "execution_count": 2,
   "metadata": {},
   "outputs": [],
   "source": [
    "training_data   = r'Data\\simulated\\Train'\r\n",
    "validation_data = r'Data\\simulated\\Val'"
   ]
  },
  {
   "cell_type": "markdown",
   "metadata": {},
   "source": [
    "## We load the data as follows:"
   ]
  },
  {
   "cell_type": "code",
   "execution_count": 3,
   "metadata": {},
   "outputs": [],
   "source": [
    "Train_data_loader = DataLoader(training_data)\r\n",
    "Val_data_loader = DataLoader(validation_data)\r\n",
    "\r\n",
    "X_Data, Y_Data = Train_data_loader.load_data()\r\n",
    "X_Data_val, Y_Data_val = Val_data_loader.load_data()"
   ]
  },
  {
   "cell_type": "markdown",
   "metadata": {},
   "source": [
    "## Now that the data is loaded, we can instantiate the model. First we define the save path for model weights and architecture"
   ]
  },
  {
   "cell_type": "code",
   "execution_count": 4,
   "metadata": {},
   "outputs": [],
   "source": [
    "save_path = r'Models/test_train'"
   ]
  },
  {
   "cell_type": "markdown",
   "metadata": {},
   "source": [
    "## Now, we instantiate the model and save the architecture to json"
   ]
  },
  {
   "cell_type": "code",
   "execution_count": 5,
   "metadata": {},
   "outputs": [
    {
     "name": "stdout",
     "output_type": "stream",
     "text": [
      "Model: \"model\"\n",
      "_________________________________________________________________\n",
      " Layer (type)                Output Shape              Param #   \n",
      "=================================================================\n",
      " input_1 (InputLayer)        [(None, 316, 1)]          0         \n",
      "                                                                 \n",
      " conv1d (Conv1D)             (None, 316, 32)           128       \n",
      "                                                                 \n",
      " batch_normalization (BatchN  (None, 316, 32)          128       \n",
      " ormalization)                                                   \n",
      "                                                                 \n",
      " conv1d_1 (Conv1D)           (None, 316, 32)           3104      \n",
      "                                                                 \n",
      " batch_normalization_1 (Batc  (None, 316, 32)          128       \n",
      " hNormalization)                                                 \n",
      "                                                                 \n",
      " average_pooling1d (AverageP  (None, 158, 32)          0         \n",
      " ooling1D)                                                       \n",
      "                                                                 \n",
      " conv1d_2 (Conv1D)           (None, 158, 32)           3104      \n",
      "                                                                 \n",
      " batch_normalization_2 (Batc  (None, 158, 32)          128       \n",
      " hNormalization)                                                 \n",
      "                                                                 \n",
      " conv1d_3 (Conv1D)           (None, 158, 32)           3104      \n",
      "                                                                 \n",
      " batch_normalization_3 (Batc  (None, 158, 32)          128       \n",
      " hNormalization)                                                 \n",
      "                                                                 \n",
      " average_pooling1d_1 (Averag  (None, 79, 32)           0         \n",
      " ePooling1D)                                                     \n",
      "                                                                 \n",
      " conv1d_4 (Conv1D)           (None, 79, 64)            6208      \n",
      "                                                                 \n",
      " batch_normalization_4 (Batc  (None, 79, 64)           256       \n",
      " hNormalization)                                                 \n",
      "                                                                 \n",
      " conv1d_5 (Conv1D)           (None, 79, 64)            12352     \n",
      "                                                                 \n",
      " batch_normalization_5 (Batc  (None, 79, 64)           256       \n",
      " hNormalization)                                                 \n",
      "                                                                 \n",
      " conv1d_6 (Conv1D)           (None, 79, 64)            12352     \n",
      "                                                                 \n",
      " batch_normalization_6 (Batc  (None, 79, 64)           256       \n",
      " hNormalization)                                                 \n",
      "                                                                 \n",
      " conv1d_7 (Conv1D)           (None, 79, 64)            12352     \n",
      "                                                                 \n",
      " batch_normalization_7 (Batc  (None, 79, 64)           256       \n",
      " hNormalization)                                                 \n",
      "                                                                 \n",
      " average_pooling1d_2 (Averag  (None, 39, 64)           0         \n",
      " ePooling1D)                                                     \n",
      "                                                                 \n",
      " conv1d_8 (Conv1D)           (None, 39, 128)           24704     \n",
      "                                                                 \n",
      " batch_normalization_8 (Batc  (None, 39, 128)          512       \n",
      " hNormalization)                                                 \n",
      "                                                                 \n",
      " conv1d_9 (Conv1D)           (None, 39, 128)           49280     \n",
      "                                                                 \n",
      " batch_normalization_9 (Batc  (None, 39, 128)          512       \n",
      " hNormalization)                                                 \n",
      "                                                                 \n",
      " conv1d_10 (Conv1D)          (None, 39, 128)           49280     \n",
      "                                                                 \n",
      " batch_normalization_10 (Bat  (None, 39, 128)          512       \n",
      " chNormalization)                                                \n",
      "                                                                 \n",
      " conv1d_11 (Conv1D)          (None, 39, 128)           49280     \n",
      "                                                                 \n",
      " batch_normalization_11 (Bat  (None, 39, 128)          512       \n",
      " chNormalization)                                                \n",
      "                                                                 \n",
      " average_pooling1d_3 (Averag  (None, 19, 128)          0         \n",
      " ePooling1D)                                                     \n",
      "                                                                 \n",
      " conv1d_12 (Conv1D)          (None, 19, 256)           98560     \n",
      "                                                                 \n",
      " batch_normalization_12 (Bat  (None, 19, 256)          1024      \n",
      " chNormalization)                                                \n",
      "                                                                 \n",
      " conv1d_13 (Conv1D)          (None, 19, 256)           196864    \n",
      "                                                                 \n",
      " batch_normalization_13 (Bat  (None, 19, 256)          1024      \n",
      " chNormalization)                                                \n",
      "                                                                 \n",
      " conv1d_14 (Conv1D)          (None, 19, 256)           196864    \n",
      "                                                                 \n",
      " batch_normalization_14 (Bat  (None, 19, 256)          1024      \n",
      " chNormalization)                                                \n",
      "                                                                 \n",
      " conv1d_15 (Conv1D)          (None, 19, 256)           196864    \n",
      "                                                                 \n",
      " batch_normalization_15 (Bat  (None, 19, 256)          1024      \n",
      " chNormalization)                                                \n",
      "                                                                 \n",
      " average_pooling1d_4 (Averag  (None, 9, 256)           0         \n",
      " ePooling1D)                                                     \n",
      "                                                                 \n",
      " conv1d_16 (Conv1D)          (None, 9, 256)            196864    \n",
      "                                                                 \n",
      " batch_normalization_16 (Bat  (None, 9, 256)           1024      \n",
      " chNormalization)                                                \n",
      "                                                                 \n",
      " conv1d_17 (Conv1D)          (None, 9, 256)            196864    \n",
      "                                                                 \n",
      " batch_normalization_17 (Bat  (None, 9, 256)           1024      \n",
      " chNormalization)                                                \n",
      "                                                                 \n",
      " conv1d_18 (Conv1D)          (None, 9, 256)            196864    \n",
      "                                                                 \n",
      " batch_normalization_18 (Bat  (None, 9, 256)           1024      \n",
      " chNormalization)                                                \n",
      "                                                                 \n",
      " conv1d_19 (Conv1D)          (None, 9, 256)            196864    \n",
      "                                                                 \n",
      " batch_normalization_19 (Bat  (None, 9, 256)           1024      \n",
      " chNormalization)                                                \n",
      "                                                                 \n",
      " average_pooling1d_5 (Averag  (None, 4, 256)           0         \n",
      " ePooling1D)                                                     \n",
      "                                                                 \n",
      " conv1d_20 (Conv1D)          (None, 4, 512)            393728    \n",
      "                                                                 \n",
      " batch_normalization_20 (Bat  (None, 4, 512)           2048      \n",
      " chNormalization)                                                \n",
      "                                                                 \n",
      " conv1d_21 (Conv1D)          (None, 4, 512)            786944    \n",
      "                                                                 \n",
      " batch_normalization_21 (Bat  (None, 4, 512)           2048      \n",
      " chNormalization)                                                \n",
      "                                                                 \n",
      " conv1d_22 (Conv1D)          (None, 4, 512)            786944    \n",
      "                                                                 \n",
      " batch_normalization_22 (Bat  (None, 4, 512)           2048      \n",
      " chNormalization)                                                \n",
      "                                                                 \n",
      " conv1d_23 (Conv1D)          (None, 4, 512)            786944    \n",
      "                                                                 \n",
      " batch_normalization_23 (Bat  (None, 4, 512)           2048      \n",
      " chNormalization)                                                \n",
      "                                                                 \n",
      " conv1d_24 (Conv1D)          (None, 4, 512)            786944    \n",
      "                                                                 \n",
      " batch_normalization_24 (Bat  (None, 4, 512)           2048      \n",
      " chNormalization)                                                \n",
      "                                                                 \n",
      " conv1d_25 (Conv1D)          (None, 4, 512)            786944    \n",
      "                                                                 \n",
      " batch_normalization_25 (Bat  (None, 4, 512)           2048      \n",
      " chNormalization)                                                \n",
      "                                                                 \n",
      " average_pooling1d_6 (Averag  (None, 2, 512)           0         \n",
      " ePooling1D)                                                     \n",
      "                                                                 \n",
      " flatten (Flatten)           (None, 1024)              0         \n",
      "                                                                 \n",
      " dense (Dense)               (None, 356)               364900    \n",
      "                                                                 \n",
      " dense_1 (Dense)             (None, 256)               91392     \n",
      "                                                                 \n",
      " dense_2 (Dense)             (None, 1)                 257       \n",
      "                                                                 \n",
      "=================================================================\n",
      "Total params: 6,510,917\n",
      "Trainable params: 6,498,885\n",
      "Non-trainable params: 12,032\n",
      "_________________________________________________________________\n"
     ]
    }
   ],
   "source": [
    "model =CNN1D((Train_data_loader.params['FragmentSize'],1))\r\n",
    "model.summary()\r\n",
    "\r\n",
    "\r\n",
    "json_config = model.to_json()\r\n",
    "with open(os.path.join(save_path,'model-Architecture.json' ), \"w\") as json_file:\r\n",
    "\tjson_file.write(json_config)"
   ]
  },
  {
   "cell_type": "markdown",
   "metadata": {},
   "source": [
    "## We can now define the callbacks and compile the model"
   ]
  },
  {
   "cell_type": "code",
   "execution_count": 6,
   "metadata": {},
   "outputs": [],
   "source": [
    "opt = tf.keras.optimizers.Adam(learning_rate=0.0001)\r\n",
    "training_loop = TrainModel(model)\r\n",
    "training_loop.compile(optimizer=opt)\r\n",
    "\r\n",
    "\r\n",
    "save_metriccallb = SaveMetrics(save_path)\r\n",
    "save_modelcallb  = SaveBestModel(save_path)"
   ]
  },
  {
   "cell_type": "markdown",
   "metadata": {},
   "source": [
    "## With everything ready, it is time to fit our model! The training is run for 20 epochs, and model weights at lowest validation loss throughout the training are stored:"
   ]
  },
  {
   "cell_type": "code",
   "execution_count": 7,
   "metadata": {},
   "outputs": [
    {
     "name": "stdout",
     "output_type": "stream",
     "text": [
      "Epoch 1/20\n",
      "182/182 [==============================] - 36s 138ms/step - loss: 0.6711 - val_loss: 0.6466\n",
      "Epoch 2/20\n",
      "182/182 [==============================] - 23s 126ms/step - loss: 0.6496 - val_loss: 0.6337\n",
      "Epoch 3/20\n",
      "182/182 [==============================] - 23s 126ms/step - loss: 0.6432 - val_loss: 0.6331\n",
      "Epoch 4/20\n",
      "182/182 [==============================] - ETA: 0s - loss: 0.6341"
     ]
    }
   ],
   "source": [
    "training_loop.fit((X_Data,Y_Data),validation_data = (X_Data_val,Y_Data_val), batch_size = 128, epochs=20, verbose = 1,callbacks = [save_metriccallb,save_modelcallb])\r\n"
   ]
  }
 ],
 "metadata": {
  "kernelspec": {
   "display_name": "Python 3.9.9 64-bit",
   "metadata": {
    "interpreter": {
     "hash": "8891487c894b874e57ee05fe049ec7a388b6131217606824f7f0c26bcaf0d680"
    }
   },
   "name": "python3"
  },
  "language_info": {
   "codemirror_mode": {
    "name": "ipython",
    "version": 3
   },
   "file_extension": ".py",
   "mimetype": "text/x-python",
   "name": "python",
   "nbconvert_exporter": "python",
   "pygments_lexer": "ipython3",
   "version": "3.9.9"
  },
  "orig_nbformat": 2
 },
 "nbformat": 4,
 "nbformat_minor": 2
}