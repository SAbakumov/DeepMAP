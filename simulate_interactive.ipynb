{
 "cells": [
  {
   "cell_type": "markdown",
   "metadata": {},
   "source": [
    "# Hello!\r\n",
    "\r\n",
    "## This is a small interactive environment for running DeepMAP algorithms. This one handles the data generation for training our CNN models.\r\n",
    "\r\n",
    "## First, let us import everything necessary to start our data simulation.\r\n"
   ]
  },
  {
   "cell_type": "code",
   "execution_count": 1,
   "metadata": {},
   "outputs": [],
   "source": [
    "from generate_trainingdata import CallTraceGeneration"
   ]
  },
  {
   "cell_type": "markdown",
   "metadata": {},
   "source": [
    "## Now that we are ready with the imports, we need to provide the path for simulation parameters. The simulation parameters file is a json file, which contains physically relevant parameters related to labelling efficiency, stretch factor on the substrate, the number of data and so on.\r\n",
    "\r\n",
    "## The majority of parameters are given in pixels, since this the unit with which the maps are extracted from the microscope. To convert between basepairs and pixels, we can use the following formula: \r\n",
    "\r\n",
    "##              bp = px*PixelSize/StretchFactor/0.34 (0.34 nm/bp is the size of the single basepair)\r\n",
    "\r\n",
    "## Or to convert between pixels and nanometer, we have:\r\n",
    "\r\n",
    "##              nm = px*PixelSize\r\n",
    "\r\n",
    "## An example of the json is given below. These parameters will generate fragments of 316 pixel (42.3 kb) in length totalling in size for 10-fold sampling of the genome at the given stride of 3 pixels (400 bp)\r\n",
    "\r\n"
   ]
  },
  {
   "cell_type": "code",
   "execution_count": 4,
   "metadata": {},
   "outputs": [],
   "source": [
    "sim_params = {   \"Wavelength\" : 586,           #-> Emission wavelength of the fluorophore\r\n",
    "    \"NA\" : 1.49,                  #-> NA of the objective\r\n",
    "    \"FragmentSize\" :316,          #-> Fragment size in pixels (number of points)\r\n",
    "    \"PixelSize\" : 78.6,           #-> Calibrated pixel size of the instrument\r\n",
    "    \"Enzyme\" : \"TaqI\",            #-> Restriction/Methyltransferase enzyme used for labelling.   \r\n",
    "    \"NumTransformations\": 5,    #-> Number of simulations. This is the total number of times that a single genome is sampled.\r\n",
    "    \"StretchingFactor\" :[1.75],   #-> Stretch factor for the simulations. Default is 1.75\r\n",
    "    \"LowerBoundEffLabelingRate\" : 0.75, #-> Lower bound labelling rate. Labelling rate is uniformly distributed between lower and upper bound \r\n",
    "    \"UpperBoundEffLabelingRate\" : 0.9,  #-> Upper bound labelling rate. \r\n",
    "    \"step\" :3,                          #-> Sampling step across genome (stride) in number of pixels\r\n",
    "    \"PixelShift\":0.5,                   #-> Random shift in dye position (+- PixelShift)\r\n",
    "    \"NoiseAmp\": [0.2],                  #-> Relative SNR\r\n",
    "    \"LocalNormWindow\":10000,            #-> Local normalization window in kb. Set to 0 in order to disable.\r\n",
    "    \"Min#ShuffledFrags\":0,              #-> Minimal number of shuffeled regions within the simulated trace\r\n",
    "    \"Max#ShuffledFrags\":4,              #-> Maximal number of shuffeled regions within the simulated trace\r\n",
    "    \"MinLengthShuffledFrags\": 35,       #-> Minimal length of shuffeled regions in pixel\r\n",
    "    \"MaxLengthShuffledFrags\": 55,       #-> Maximal length of shuffeled regions in pixel\r\n",
    "    \"FPR\": 0.7,                         #-> False positive rate /kb\r\n",
    "    \"FPR2\": 0.2,                        #-> Double false positive rate\r\n",
    "    \"Random-min\": 1.2,                  #-> Minimal number of dyes/kb for random genome\r\n",
    "    \"Random-max\": 6.8                   #-> Maximal number of dyes/kb for random genome\r\n",
    "}  "
   ]
  },
  {
   "cell_type": "markdown",
   "metadata": {},
   "source": [
    "## Let us also provide the necessary paths for storage of the simulation data. This is the path where we will store our training and validation datasets. \r\n"
   ]
  },
  {
   "cell_type": "code",
   "execution_count": 5,
   "metadata": {},
   "outputs": [],
   "source": [
    "sim_params['Save_path'] = r'Data\\simulated\\Train' #PATH TO TRAIN"
   ]
  },
  {
   "cell_type": "markdown",
   "metadata": {},
   "source": [
    "## Lastly, let us also provide the necessary folder for the fasta files. Let us take f.e. Escherichia coli:"
   ]
  },
  {
   "cell_type": "code",
   "execution_count": 6,
   "metadata": {},
   "outputs": [],
   "source": [
    "sim_params['Genomes'] = r'RefGenomes'"
   ]
  },
  {
   "cell_type": "markdown",
   "metadata": {},
   "source": [
    "## The data is stored in  .npz format, however, if necessary for plotting, the data can also be saved as CSV. To add the option for CSV, switch the CSV parameter in the simulation parameters to True. For now, let's not concatenate them."
   ]
  },
  {
   "cell_type": "code",
   "execution_count": 7,
   "metadata": {},
   "outputs": [],
   "source": [
    "sim_params['ConcatToCsv'] = False #PATH TO TRAIN"
   ]
  },
  {
   "cell_type": "markdown",
   "metadata": {},
   "source": [
    "## The training and validation data has to be generated separately. We start with the training data with the previously mentioned parameters"
   ]
  },
  {
   "cell_type": "code",
   "execution_count": 8,
   "metadata": {},
   "outputs": [
    {
     "name": "stdout",
     "output_type": "stream",
     "text": [
      "Generating simulated data from genome:NC_000913.3.fasta\n"
     ]
    },
    {
     "name": "stderr",
     "output_type": "stream",
     "text": [
      " 36%|███▌      | 4132/11594 [00:11<00:20, 363.00it/s]"
     ]
    }
   ],
   "source": [
    "CallTraceGeneration(sim_params)"
   ]
  },
  {
   "cell_type": "markdown",
   "metadata": {},
   "source": [
    "## To simulate the validation data, we need to first switch the saving folder. Also, we need to change the amount of generated data to ~10% of the total training data. Then, we can call the trace generation again."
   ]
  },
  {
   "cell_type": "code",
   "execution_count": 8,
   "metadata": {},
   "outputs": [
    {
     "name": "stdout",
     "output_type": "stream",
     "text": [
      "Generating simulated data from genome:NC_000913.3.fasta\n"
     ]
    },
    {
     "name": "stderr",
     "output_type": "stream",
     "text": [
      "100%|██████████| 11594/11594 [00:31<00:00, 365.76it/s]\n",
      "100%|██████████| 11594/11594 [00:29<00:00, 388.00it/s]\n",
      "100%|██████████| 11594/11594 [00:31<00:00, 373.72it/s]\n",
      "100%|██████████| 11594/11594 [00:31<00:00, 367.06it/s]\n",
      "100%|██████████| 11594/11594 [00:31<00:00, 372.50it/s]\n"
     ]
    },
    {
     "name": "stdout",
     "output_type": "stream",
     "text": [
      "Generating random simulated fragments\n"
     ]
    },
    {
     "name": "stderr",
     "output_type": "stream",
     "text": [
      "100%|██████████| 11594/11594 [00:07<00:00, 1499.54it/s]\n",
      "100%|██████████| 11594/11594 [00:07<00:00, 1506.36it/s]\n",
      "100%|██████████| 11594/11594 [00:07<00:00, 1492.14it/s]\n",
      "100%|██████████| 11594/11594 [00:07<00:00, 1527.01it/s]\n",
      "100%|██████████| 11594/11594 [00:08<00:00, 1406.88it/s]\n"
     ]
    }
   ],
   "source": [
    "sim_params['Save_path'] = r'Data\\simulated\\Val' #PATH TO TRAIN\r\n",
    "sim_params['NumTransformations'] = 5 #~10% of the training data\r\n",
    "CallTraceGeneration(sim_params)"
   ]
  },
  {
   "cell_type": "markdown",
   "metadata": {},
   "source": [
    "## We are all done! We can now proceed to training our networks with the data that we generated"
   ]
  }
 ],
 "metadata": {
  "kernelspec": {
   "display_name": "Python 3.9.9 64-bit",
   "metadata": {
    "interpreter": {
     "hash": "8891487c894b874e57ee05fe049ec7a388b6131217606824f7f0c26bcaf0d680"
    }
   },
   "name": "python3"
  },
  "language_info": {
   "codemirror_mode": {
    "name": "ipython",
    "version": 3
   },
   "file_extension": ".py",
   "mimetype": "text/x-python",
   "name": "python",
   "nbconvert_exporter": "python",
   "pygments_lexer": "ipython3",
   "version": "3.9.9"
  },
  "orig_nbformat": 2
 },
 "nbformat": 4,
 "nbformat_minor": 2
}
